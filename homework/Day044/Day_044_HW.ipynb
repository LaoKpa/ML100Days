{
 "cells": [
  {
   "cell_type": "markdown",
   "metadata": {},
   "source": [
    "## [作業重點]\n",
    "確保你了解隨機森林模型中每個超參數的意義，並觀察調整超參數對結果的影響"
   ]
  },
  {
   "cell_type": "markdown",
   "metadata": {},
   "source": [
    "## 作業\n",
    "\n",
    "1. 試著調整 RandomForestClassifier(...) 中的參數，並觀察是否會改變結果？\n",
    "2. 改用其他資料集 (boston, wine)，並與回歸模型與決策樹的結果進行比較"
   ]
  },
  {
   "cell_type": "code",
   "execution_count": 1,
   "metadata": {},
   "outputs": [],
   "source": [
    "from sklearn import datasets, metrics\n",
    "from sklearn.ensemble import RandomForestClassifier\n",
    "from sklearn import svm\n",
    "from sklearn.pipeline import make_pipeline\n",
    "from sklearn.preprocessing import StandardScaler\n",
    "from sklearn.model_selection import train_test_split"
   ]
  },
  {
   "cell_type": "code",
   "execution_count": 2,
   "metadata": {},
   "outputs": [],
   "source": [
    "iris = datasets.load_iris()\n",
    "x_train, x_test, y_train, y_test = train_test_split(iris.data, iris.target, test_size=0.25, random_state=4)"
   ]
  },
  {
   "cell_type": "code",
   "execution_count": 3,
   "metadata": {},
   "outputs": [
    {
     "name": "stdout",
     "output_type": "stream",
     "text": [
      "# of estimators: 100 | Max depth: 5 | Accuracy: 0.9736842105263158\n",
      "# of estimators: 100 | Max depth: 6 | Accuracy: 0.9736842105263158\n",
      "# of estimators: 100 | Max depth: 7 | Accuracy: 0.9736842105263158\n",
      "# of estimators: 100 | Max depth: 8 | Accuracy: 0.9736842105263158\n",
      "# of estimators: 200 | Max depth: 5 | Accuracy: 0.9736842105263158\n",
      "# of estimators: 200 | Max depth: 6 | Accuracy: 0.9736842105263158\n",
      "# of estimators: 200 | Max depth: 7 | Accuracy: 0.9736842105263158\n",
      "# of estimators: 200 | Max depth: 8 | Accuracy: 0.9736842105263158\n",
      "# of estimators: 300 | Max depth: 5 | Accuracy: 0.9736842105263158\n",
      "# of estimators: 300 | Max depth: 6 | Accuracy: 0.9736842105263158\n",
      "# of estimators: 300 | Max depth: 7 | Accuracy: 0.9736842105263158\n",
      "# of estimators: 300 | Max depth: 8 | Accuracy: 0.9736842105263158\n",
      "# of estimators: 400 | Max depth: 5 | Accuracy: 0.9736842105263158\n",
      "# of estimators: 400 | Max depth: 6 | Accuracy: 0.9736842105263158\n",
      "# of estimators: 400 | Max depth: 7 | Accuracy: 0.9736842105263158\n",
      "# of estimators: 400 | Max depth: 8 | Accuracy: 0.9736842105263158\n"
     ]
    }
   ],
   "source": [
    "for num_est in [100, 200, 300, 400]:\n",
    "    for max_depth in [5, 6, 7, 8]:\n",
    "        clf = RandomForestClassifier(\n",
    "            n_estimators=num_est, \n",
    "            max_depth=max_depth, \n",
    "            bootstrap=True)\n",
    "        clf.fit(x_train, y_train)\n",
    "        y_pred = clf.predict(x_test)\n",
    "        acc = metrics.accuracy_score(y_test, y_pred)\n",
    "        print(\"# of estimators: {} | Max depth: {} | Accuracy: {}\".format(num_est, max_depth, acc))"
   ]
  },
  {
   "cell_type": "code",
   "execution_count": 4,
   "metadata": {},
   "outputs": [],
   "source": [
    "boston = datasets.load_boston()\n",
    "x_train, x_test, y_train, y_test = train_test_split(boston.data, boston.target, test_size=0.25, random_state=4)"
   ]
  },
  {
   "cell_type": "code",
   "execution_count": 5,
   "metadata": {},
   "outputs": [
    {
     "name": "stdout",
     "output_type": "stream",
     "text": [
      "Penalties: 1 | MSE: 42.670029732855795\n",
      "Penalties: 2 | MSE: 31.870269694362477\n",
      "Penalties: 3 | MSE: 27.355687749608045\n",
      "Penalties: 4 | MSE: 25.013394160606925\n",
      "Penalties: 5 | MSE: 23.04952632025864\n",
      "Penalties: 6 | MSE: 21.757800048310777\n"
     ]
    }
   ],
   "source": [
    "for c in [1, 2, 3, 4, 5, 6]:\n",
    "    reg = make_pipeline(StandardScaler(), svm.SVR(C=c))\n",
    "    reg.fit(x_train, y_train)\n",
    "    y_pred = reg.predict(x_test)\n",
    "    mse = metrics.mean_squared_error(y_test, y_pred)\n",
    "    print(\"Penalties: {} | MSE: {}\".format(c, mse))"
   ]
  },
  {
   "cell_type": "code",
   "execution_count": null,
   "metadata": {},
   "outputs": [],
   "source": []
  }
 ],
 "metadata": {
  "kernelspec": {
   "display_name": "nlp",
   "language": "python",
   "name": "nlp"
  },
  "language_info": {
   "codemirror_mode": {
    "name": "ipython",
    "version": 3
   },
   "file_extension": ".py",
   "mimetype": "text/x-python",
   "name": "python",
   "nbconvert_exporter": "python",
   "pygments_lexer": "ipython3",
   "version": "3.7.3"
  }
 },
 "nbformat": 4,
 "nbformat_minor": 2
}
