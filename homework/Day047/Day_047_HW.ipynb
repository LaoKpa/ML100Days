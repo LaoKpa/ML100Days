{
 "cells": [
  {
   "cell_type": "markdown",
   "metadata": {},
   "source": [
    "## [作業重點]\n",
    "了解如何使用 Sklearn 中的 hyper-parameter search 找出最佳的超參數"
   ]
  },
  {
   "cell_type": "markdown",
   "metadata": {},
   "source": [
    "### 作業\n",
    "請使用不同的資料集，並使用 hyper-parameter search 的方式，看能不能找出最佳的超參數組合"
   ]
  },
  {
   "cell_type": "code",
   "execution_count": 1,
   "metadata": {},
   "outputs": [],
   "source": [
    "import numpy as np\n",
    "from sklearn import datasets, metrics\n",
    "from sklearn.model_selection import train_test_split, KFold, GridSearchCV\n",
    "from sklearn.ensemble import GradientBoostingClassifier"
   ]
  },
  {
   "cell_type": "code",
   "execution_count": 2,
   "metadata": {},
   "outputs": [],
   "source": [
    "wine = datasets.load_wine()\n",
    "x_train, x_test, y_train, y_test = train_test_split(wine.data, wine.target, test_size=0.25, random_state=17)"
   ]
  },
  {
   "cell_type": "code",
   "execution_count": 3,
   "metadata": {},
   "outputs": [
    {
     "name": "stdout",
     "output_type": "stream",
     "text": [
      "Accuracy: 0.9556\n"
     ]
    }
   ],
   "source": [
    "# Model without fine-tuning\n",
    "clf = GradientBoostingClassifier(random_state=17)\n",
    "clf.fit(x_train, y_train)\n",
    "y_pred = clf.predict(x_test)\n",
    "print(\"Accuracy: {:.4f}\".format(metrics.accuracy_score(y_test, y_pred)))"
   ]
  },
  {
   "cell_type": "code",
   "execution_count": 4,
   "metadata": {},
   "outputs": [
    {
     "name": "stdout",
     "output_type": "stream",
     "text": [
      "Best Accuracy: 0.9704 using {'max_depth': 1, 'n_estimators': 60}\n"
     ]
    }
   ],
   "source": [
    "n_estimators = [int(x) for x in np.linspace(10, 100, 10)]\n",
    "max_depth = [int(x) for x in np.linspace(1, 10, 10)]\n",
    "param_grid = dict(n_estimators=n_estimators, max_depth=max_depth)\n",
    "grid_search = GridSearchCV(clf, param_grid, scoring=\"accuracy\", n_jobs=-1, verbose=0)\n",
    "grid_result = grid_search.fit(x_train, y_train)\n",
    "print(\"Best Accuracy: %.4f using %s\" % (grid_result.best_score_, grid_result.best_params_))"
   ]
  },
  {
   "cell_type": "code",
   "execution_count": 5,
   "metadata": {},
   "outputs": [
    {
     "name": "stdout",
     "output_type": "stream",
     "text": [
      "Accuracy: 0.9778\n"
     ]
    }
   ],
   "source": [
    "# Train again using the best hyperparameters\n",
    "clf_bestparam = GradientBoostingClassifier(\n",
    "    max_depth=grid_result.best_params_['max_depth'], \n",
    "    n_estimators=grid_result.best_params_['n_estimators'], \n",
    "    random_state=17)\n",
    "clf_bestparam.fit(x_train, y_train)\n",
    "y_pred = clf_bestparam.predict(x_test)\n",
    "print(\"Accuracy: {:.4f}\".format(metrics.accuracy_score(y_test, y_pred)))"
   ]
  },
  {
   "cell_type": "code",
   "execution_count": 6,
   "metadata": {},
   "outputs": [
    {
     "data": {
      "image/png": "[encoded data removed]",
      "text/plain": [
       "<Figure size 864x432 with 2 Axes>"
      ]
     },
     "metadata": {
      "needs_background": "light"
     },
     "output_type": "display_data"
    }
   ],
   "source": [
    "# Reference from \n",
    "# https://cambridgecoding.wordpress.com/2016/04/03/scanning-hyperspace-how-to-tune-machine-learning-models/\n",
    "import matplotlib.pyplot as plt\n",
    "%matplotlib inline\n",
    " \n",
    "# Fetch scores, reshape into a grid\n",
    "scores = [x for x in grid_result.cv_results_.get(\"mean_test_score\")]\n",
    "scores = np.array(scores).reshape(len(n_estimators), len(max_depth))\n",
    "scores = np.transpose(scores)\n",
    " \n",
    "# Make heatmap from grid search results\n",
    "plt.figure(figsize=(12, 6))\n",
    "plt.imshow(scores, interpolation='nearest', origin='higher', cmap='Blues')\n",
    "plt.xticks(np.arange(len(n_estimators)), n_estimators)\n",
    "plt.yticks(np.arange(len(max_depth)), max_depth)\n",
    "plt.xlabel('Number of decision trees')\n",
    "plt.ylabel('Max depth')\n",
    "plt.colorbar().set_label('Classification Accuracy', rotation=270, labelpad=20)\n",
    "plt.show()"
   ]
  },
  {
   "cell_type": "code",
   "execution_count": null,
   "metadata": {},
   "outputs": [],
   "source": []
  }
 ],
 "metadata": {
  "kernelspec": {
   "display_name": "nlp",
   "language": "python",
   "name": "nlp"
  },
  "language_info": {
   "codemirror_mode": {
    "name": "ipython",
    "version": 3
   },
   "file_extension": ".py",
   "mimetype": "text/x-python",
   "name": "python",
   "nbconvert_exporter": "python",
   "pygments_lexer": "ipython3",
   "version": "3.7.3"
  }
 },
 "nbformat": 4,
 "nbformat_minor": 2
}
