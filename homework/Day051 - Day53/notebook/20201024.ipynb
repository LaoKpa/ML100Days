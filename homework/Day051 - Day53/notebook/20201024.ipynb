{
 "cells": [
  {
   "cell_type": "code",
   "execution_count": 49,
   "metadata": {},
   "outputs": [],
   "source": [
    "import joblib\n",
    "import xgboost\n",
    "import multiprocessing\n",
    "import pandas as pd\n",
    "import numpy as np\n",
    "import tensorflow as tf\n",
    "from sklearn.impute import SimpleImputer\n",
    "from sklearn.preprocessing import MinMaxScaler\n",
    "from sklearn.preprocessing import StandardScaler\n",
    "from sklearn.model_selection import RandomizedSearchCV\n",
    "from sklearn.model_selection import GridSearchCV\n",
    "from sklearn.model_selection import StratifiedKFold"
   ]
  },
  {
   "cell_type": "code",
   "execution_count": 2,
   "metadata": {},
   "outputs": [],
   "source": [
    "features = joblib.load(\"features.gz\")\n",
    "labels = joblib.load(\"labels.gz\")"
   ]
  },
  {
   "cell_type": "code",
   "execution_count": 5,
   "metadata": {},
   "outputs": [
    {
     "name": "stdout",
     "output_type": "stream",
     "text": [
      "(111, 22)\n"
     ]
    },
    {
     "data": {
      "text/plain": [
       "array([[ 1.75000000e+06,  1.95190000e+05, -3.50438600e+06, ...,\n",
       "         3.20168498e+00, -3.33573621e-01,  2.22222222e-01],\n",
       "       [ 5.60000000e+06,  1.95190000e+05, -1.17534000e+05, ...,\n",
       "         2.21128965e-01, -3.33573621e-01,  2.77777778e-01],\n",
       "       [ 2.00000000e+05,  1.95190000e+05, -4.16700000e+03, ...,\n",
       "         2.77457723e-01, -3.33573621e-01,  3.58974359e-01],\n",
       "       ...,\n",
       "       [ 3.00000000e+05,  1.95190000e+05, -1.17534000e+05, ...,\n",
       "         2.77457723e-01, -3.33573621e-01,  0.00000000e+00],\n",
       "       [ 7.50000000e+05,  1.95190000e+05, -1.17534000e+05, ...,\n",
       "         2.77457723e-01, -3.33573621e-01,  3.68421053e-01],\n",
       "       [ 6.50000000e+05,  1.95190000e+05, -1.17534000e+05, ...,\n",
       "         2.77457723e-01, -3.33573621e-01,  5.34979424e-02]])"
      ]
     },
     "execution_count": 5,
     "metadata": {},
     "output_type": "execute_result"
    }
   ],
   "source": [
    "print(features.shape)\n",
    "features"
   ]
  },
  {
   "cell_type": "code",
   "execution_count": 7,
   "metadata": {},
   "outputs": [
    {
     "name": "stdout",
     "output_type": "stream",
     "text": [
      "(111,)\n"
     ]
    },
    {
     "data": {
      "text/plain": [
       "0       True\n",
       "1       True\n",
       "2       True\n",
       "3       True\n",
       "4       True\n",
       "       ...  \n",
       "108    False\n",
       "109    False\n",
       "110    False\n",
       "111    False\n",
       "112    False\n",
       "Name: poi, Length: 111, dtype: bool"
      ]
     },
     "execution_count": 7,
     "metadata": {},
     "output_type": "execute_result"
    }
   ],
   "source": [
    "print(labels.shape)\n",
    "labels"
   ]
  },
  {
   "cell_type": "code",
   "execution_count": 9,
   "metadata": {},
   "outputs": [],
   "source": [
    "df_features = pd.DataFrame(features)\n",
    "df_labels = pd.DataFrame(labels)"
   ]
  },
  {
   "cell_type": "code",
   "execution_count": 23,
   "metadata": {},
   "outputs": [
    {
     "data": {
      "text/html": [
       "<div>\n",
       "<style scoped>\n",
       "    .dataframe tbody tr th:only-of-type {\n",
       "        vertical-align: middle;\n",
       "    }\n",
       "\n",
       "    .dataframe tbody tr th {\n",
       "        vertical-align: top;\n",
       "    }\n",
       "\n",
       "    .dataframe thead th {\n",
       "        text-align: right;\n",
       "    }\n",
       "</style>\n",
       "<table border=\"1\" class=\"dataframe\">\n",
       "  <thead>\n",
       "    <tr style=\"text-align: right;\">\n",
       "      <th></th>\n",
       "      <th>0</th>\n",
       "      <th>1</th>\n",
       "      <th>2</th>\n",
       "      <th>3</th>\n",
       "      <th>4</th>\n",
       "      <th>5</th>\n",
       "      <th>6</th>\n",
       "      <th>7</th>\n",
       "      <th>8</th>\n",
       "      <th>9</th>\n",
       "      <th>...</th>\n",
       "      <th>13</th>\n",
       "      <th>14</th>\n",
       "      <th>15</th>\n",
       "      <th>16</th>\n",
       "      <th>17</th>\n",
       "      <th>18</th>\n",
       "      <th>19</th>\n",
       "      <th>20</th>\n",
       "      <th>21</th>\n",
       "      <th>poi</th>\n",
       "    </tr>\n",
       "  </thead>\n",
       "  <tbody>\n",
       "    <tr>\n",
       "      <th>0</th>\n",
       "      <td>1750000.0</td>\n",
       "      <td>195190.0</td>\n",
       "      <td>-3504386.0</td>\n",
       "      <td>108579.0</td>\n",
       "      <td>19794175.0</td>\n",
       "      <td>46950.0</td>\n",
       "      <td>18.0</td>\n",
       "      <td>42.0</td>\n",
       "      <td>4.0</td>\n",
       "      <td>40962500.0</td>\n",
       "      <td>...</td>\n",
       "      <td>-139856.5</td>\n",
       "      <td>420636.0</td>\n",
       "      <td>864.0</td>\n",
       "      <td>905.0</td>\n",
       "      <td>505050.0</td>\n",
       "      <td>22542539.0</td>\n",
       "      <td>3.201685</td>\n",
       "      <td>-0.333574</td>\n",
       "      <td>0.222222</td>\n",
       "      <td>1</td>\n",
       "    </tr>\n",
       "    <tr>\n",
       "      <th>1</th>\n",
       "      <td>5600000.0</td>\n",
       "      <td>195190.0</td>\n",
       "      <td>-117534.0</td>\n",
       "      <td>108579.0</td>\n",
       "      <td>19250000.0</td>\n",
       "      <td>29336.0</td>\n",
       "      <td>108.0</td>\n",
       "      <td>88.0</td>\n",
       "      <td>30.0</td>\n",
       "      <td>40962500.0</td>\n",
       "      <td>...</td>\n",
       "      <td>-139856.5</td>\n",
       "      <td>1111258.0</td>\n",
       "      <td>2042.0</td>\n",
       "      <td>3627.0</td>\n",
       "      <td>8682716.0</td>\n",
       "      <td>26093672.0</td>\n",
       "      <td>0.221129</td>\n",
       "      <td>-0.333574</td>\n",
       "      <td>0.277778</td>\n",
       "      <td>1</td>\n",
       "    </tr>\n",
       "    <tr>\n",
       "      <th>2</th>\n",
       "      <td>200000.0</td>\n",
       "      <td>195190.0</td>\n",
       "      <td>-4167.0</td>\n",
       "      <td>108579.0</td>\n",
       "      <td>1624396.0</td>\n",
       "      <td>22884.0</td>\n",
       "      <td>39.0</td>\n",
       "      <td>13.0</td>\n",
       "      <td>14.0</td>\n",
       "      <td>40962500.0</td>\n",
       "      <td>...</td>\n",
       "      <td>-139856.5</td>\n",
       "      <td>211844.0</td>\n",
       "      <td>91.0</td>\n",
       "      <td>225.0</td>\n",
       "      <td>2003885.0</td>\n",
       "      <td>2493616.0</td>\n",
       "      <td>0.277458</td>\n",
       "      <td>-0.333574</td>\n",
       "      <td>0.358974</td>\n",
       "      <td>1</td>\n",
       "    </tr>\n",
       "    <tr>\n",
       "      <th>3</th>\n",
       "      <td>800000.0</td>\n",
       "      <td>195190.0</td>\n",
       "      <td>-117534.0</td>\n",
       "      <td>108579.0</td>\n",
       "      <td>850010.0</td>\n",
       "      <td>118134.0</td>\n",
       "      <td>45.0</td>\n",
       "      <td>28.0</td>\n",
       "      <td>7.0</td>\n",
       "      <td>40962500.0</td>\n",
       "      <td>...</td>\n",
       "      <td>-139856.5</td>\n",
       "      <td>224305.0</td>\n",
       "      <td>599.0</td>\n",
       "      <td>1088.0</td>\n",
       "      <td>2652612.0</td>\n",
       "      <td>985032.0</td>\n",
       "      <td>0.227199</td>\n",
       "      <td>-0.333574</td>\n",
       "      <td>0.070751</td>\n",
       "      <td>1</td>\n",
       "    </tr>\n",
       "    <tr>\n",
       "      <th>4</th>\n",
       "      <td>1250000.0</td>\n",
       "      <td>195190.0</td>\n",
       "      <td>-262500.0</td>\n",
       "      <td>108579.0</td>\n",
       "      <td>850010.0</td>\n",
       "      <td>35818.0</td>\n",
       "      <td>144.0</td>\n",
       "      <td>199.0</td>\n",
       "      <td>25.0</td>\n",
       "      <td>40962500.0</td>\n",
       "      <td>...</td>\n",
       "      <td>-139856.5</td>\n",
       "      <td>240189.0</td>\n",
       "      <td>2188.0</td>\n",
       "      <td>2598.0</td>\n",
       "      <td>1639297.0</td>\n",
       "      <td>126027.0</td>\n",
       "      <td>0.228942</td>\n",
       "      <td>-0.333574</td>\n",
       "      <td>0.173611</td>\n",
       "      <td>1</td>\n",
       "    </tr>\n",
       "  </tbody>\n",
       "</table>\n",
       "<p>5 rows × 23 columns</p>\n",
       "</div>"
      ],
      "text/plain": [
       "           0         1          2         3           4         5      6  \\\n",
       "0  1750000.0  195190.0 -3504386.0  108579.0  19794175.0   46950.0   18.0   \n",
       "1  5600000.0  195190.0  -117534.0  108579.0  19250000.0   29336.0  108.0   \n",
       "2   200000.0  195190.0    -4167.0  108579.0   1624396.0   22884.0   39.0   \n",
       "3   800000.0  195190.0  -117534.0  108579.0    850010.0  118134.0   45.0   \n",
       "4  1250000.0  195190.0  -262500.0  108579.0    850010.0   35818.0  144.0   \n",
       "\n",
       "       7     8           9  ...        13         14      15      16  \\\n",
       "0   42.0   4.0  40962500.0  ... -139856.5   420636.0   864.0   905.0   \n",
       "1   88.0  30.0  40962500.0  ... -139856.5  1111258.0  2042.0  3627.0   \n",
       "2   13.0  14.0  40962500.0  ... -139856.5   211844.0    91.0   225.0   \n",
       "3   28.0   7.0  40962500.0  ... -139856.5   224305.0   599.0  1088.0   \n",
       "4  199.0  25.0  40962500.0  ... -139856.5   240189.0  2188.0  2598.0   \n",
       "\n",
       "          17          18        19        20        21  poi  \n",
       "0   505050.0  22542539.0  3.201685 -0.333574  0.222222    1  \n",
       "1  8682716.0  26093672.0  0.221129 -0.333574  0.277778    1  \n",
       "2  2003885.0   2493616.0  0.277458 -0.333574  0.358974    1  \n",
       "3  2652612.0    985032.0  0.227199 -0.333574  0.070751    1  \n",
       "4  1639297.0    126027.0  0.228942 -0.333574  0.173611    1  \n",
       "\n",
       "[5 rows x 23 columns]"
      ]
     },
     "execution_count": 23,
     "metadata": {},
     "output_type": "execute_result"
    }
   ],
   "source": [
    "df = pd.concat([df_features, df_labels], axis=1)\n",
    "df.dropna(inplace=True, axis=0)\n",
    "df[\"poi\"] = df[\"poi\"].astype(int)\n",
    "df.head()"
   ]
  },
  {
   "cell_type": "code",
   "execution_count": 40,
   "metadata": {},
   "outputs": [],
   "source": [
    "test_dataframe = df.sample(frac=0.2, random_state=914)\n",
    "train_dataframe = df.drop(test_dataframe.index)"
   ]
  },
  {
   "cell_type": "code",
   "execution_count": 41,
   "metadata": {},
   "outputs": [],
   "source": [
    "train_labels = train_dataframe.pop(\"poi\")"
   ]
  },
  {
   "cell_type": "code",
   "execution_count": 42,
   "metadata": {},
   "outputs": [
    {
     "name": "stdout",
     "output_type": "stream",
     "text": [
      "Fitting 10 folds for each of 5 candidates, totalling 50 fits\n"
     ]
    },
    {
     "name": "stderr",
     "output_type": "stream",
     "text": [
      "[Parallel(n_jobs=16)]: Using backend LokyBackend with 16 concurrent workers.\n",
      "[Parallel(n_jobs=16)]: Done  50 out of  50 | elapsed:    3.4s finished\n"
     ]
    }
   ],
   "source": [
    "xgb = xgboost.XGBClassifier(\n",
    "    learning_rate=0.01,  \n",
    "    n_estimators=400, \n",
    "    random_state=17)\n",
    "\n",
    "params = { \n",
    "    'min_child_weight': [1, 5, 10],\n",
    "    'gamma': [0.5, 1, 1.5, 2, 5],\n",
    "    'subsample': [0.6, 0.8, 1.0],\n",
    "    'colsample_bytree': [0.6, 0.8, 1.0],\n",
    "    'max_depth': [5, 10, 15, 20]\n",
    "}\n",
    "\n",
    "folds = 10\n",
    "param_comb = 5\n",
    "\n",
    "skf = StratifiedKFold(n_splits=folds, shuffle=True, random_state=914)\n",
    "\n",
    "random_search = RandomizedSearchCV(\n",
    "    xgb, \n",
    "    param_distributions=params, \n",
    "    n_iter=param_comb, \n",
    "    scoring='roc_auc', \n",
    "    n_jobs=multiprocessing.cpu_count(), \n",
    "    cv=skf.split(train_dataframe, train_labels), \n",
    "    verbose=2, \n",
    "    random_state=914)\n",
    "random_search.fit(train_dataframe, train_labels)\n",
    "xgb = random_search.best_estimator_"
   ]
  },
  {
   "cell_type": "code",
   "execution_count": 43,
   "metadata": {},
   "outputs": [],
   "source": [
    "test_labels = test_dataframe.pop(\"poi\")"
   ]
  },
  {
   "cell_type": "code",
   "execution_count": 45,
   "metadata": {},
   "outputs": [
    {
     "data": {
      "text/plain": [
       "0.9090909090909091"
      ]
     },
     "execution_count": 45,
     "metadata": {},
     "output_type": "execute_result"
    }
   ],
   "source": [
    "test_score = xgb.score(test_dataframe, test_labels)\n",
    "test_score"
   ]
  },
  {
   "cell_type": "code",
   "execution_count": null,
   "metadata": {},
   "outputs": [],
   "source": [
    "from sklearn.metrics import confusion_matrix\n",
    "confusion_matrix"
   ]
  }
 ],
 "metadata": {
  "kernelspec": {
   "display_name": "nlp",
   "language": "python",
   "name": "nlp"
  },
  "language_info": {
   "codemirror_mode": {
    "name": "ipython",
    "version": 3
   },
   "file_extension": ".py",
   "mimetype": "text/x-python",
   "name": "python",
   "nbconvert_exporter": "python",
   "pygments_lexer": "ipython3",
   "version": "3.7.3"
  }
 },
 "nbformat": 4,
 "nbformat_minor": 4
}
