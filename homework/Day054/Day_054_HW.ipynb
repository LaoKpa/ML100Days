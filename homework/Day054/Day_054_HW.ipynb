{
 "cells": [
  {
   "cell_type": "markdown",
   "metadata": {},
   "source": [
    "# 作業\n",
    "* 試著想想看, 非監督學習是否有可能使用評價函數 (Metric) 來鑑別好壞呢?  \n",
    "(Hint : 可以分為 \"有目標值\" 與 \"無目標值\" 兩個方向思考)"
   ]
  },
  {
   "cell_type": "markdown",
   "metadata": {
    "collapsed": true
   },
   "source": [
    "**CVAP: Validation for cluster analyses.**\n",
    "\n",
    "To measure the quality of clustering results, there are two kinds of validity indices: external **indices** and **internal indices**.\n",
    "\n",
    "1. An external index is a measure of agreement between two partitions where the first partition is the a priori known clustering structure, and the second results from the clustering procedure (Dudoit et al., 2002). For external indices, we evaluate the results of a clustering algorithm based on a known cluster structure of a data set (or cluster labels).\n",
    "\n",
    "2. Internal indices are used to measure the goodness of a clustering structure without external information (Tseng et al., 2005). For internal indices, we evaluate the results using quantities and features inherent in the data set. The optimal number of clusters is usually determined based on an internal validity index."
   ]
  },
  {
   "cell_type": "markdown",
   "metadata": {},
   "source": [
    "Internal indices:\n",
    "- Silhouette index\n",
    "- Davies-Bouldin\n",
    "- Calinski-Harabasz\n",
    "- Dunn index\n",
    "- R-squared index\n",
    "- Hubert-Levin (C-index)\n",
    "- Krzanowski-Lai index\n",
    "- Hartigan index\n",
    "- Root-mean-square standard deviation (RMSSTD) index\n",
    "- Semi-partial R-squared (SPR) index\n",
    "- Distance between two clusters (CD) index\n",
    "- weighted inter-intra index\n",
    "- Homogeneity index\n",
    "- Separation index"
   ]
  },
  {
   "cell_type": "markdown",
   "metadata": {},
   "source": [
    "## Reference\n",
    "1. https://stats.stackexchange.com/questions/21807/evaluation-measures-of-goodness-or-validity-of-clustering-without-having-truth"
   ]
  },
  {
   "cell_type": "code",
   "execution_count": null,
   "metadata": {},
   "outputs": [],
   "source": []
  }
 ],
 "metadata": {
  "kernelspec": {
   "display_name": "Python 3",
   "language": "python",
   "name": "python3"
  },
  "language_info": {
   "codemirror_mode": {
    "name": "ipython",
    "version": 3
   },
   "file_extension": ".py",
   "mimetype": "text/x-python",
   "name": "python",
   "nbconvert_exporter": "python",
   "pygments_lexer": "ipython3",
   "version": "3.7.3"
  }
 },
 "nbformat": 4,
 "nbformat_minor": 1
}
