{
 "cells": [
  {
   "cell_type": "markdown",
   "metadata": {},
   "source": [
    "## [Goal for Assignment]\n",
    "Understand and explore the application of machine learning."
   ]
  },
  {
   "cell_type": "markdown",
   "metadata": {},
   "source": [
    "## [Point for Assignment]\n",
    "Find the best application of machine learning through understanding how machine learning works."
   ]
  },
  {
   "cell_type": "markdown",
   "metadata": {},
   "source": [
    "## Assignment\n",
    "### Please find a field that machine learning could do its best and explain the reason.\n",
    "\n",
    "I think machine learning is adept at learning patterns of business. Take forex as example, there are lots of researchers dig into finding the best strategy for getting higher revenue. Using machine learning in forex trading automatically could be really fascinating, not only because it saves large amount of human labors cost, but also saves several times. To put it succinctly, using machine learning in forex trading is a high challenging task, but many people still willing to give it a shot."
   ]
  },
  {
   "cell_type": "code",
   "execution_count": null,
   "metadata": {},
   "outputs": [],
   "source": []
  }
 ],
 "metadata": {
  "kernelspec": {
   "display_name": "Python 3",
   "language": "python",
   "name": "python3"
  },
  "language_info": {
   "codemirror_mode": {
    "name": "ipython",
    "version": 3
   },
   "file_extension": ".py",
   "mimetype": "text/x-python",
   "name": "python",
   "nbconvert_exporter": "python",
   "pygments_lexer": "ipython3",
   "version": "3.7.3"
  }
 },
 "nbformat": 4,
 "nbformat_minor": 2
}
