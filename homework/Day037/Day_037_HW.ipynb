{
 "cells": [
  {
   "cell_type": "markdown",
   "metadata": {},
   "source": [
    "## [作業重點]\n",
    "了解線性回歸的模型發展歷程，並了解優勢與劣勢，以及其使用情境"
   ]
  },
  {
   "cell_type": "markdown",
   "metadata": {},
   "source": [
    "## 作業"
   ]
  },
  {
   "cell_type": "markdown",
   "metadata": {},
   "source": [
    "請閱讀以下相關文獻，並回答以下問題\n",
    "\n",
    "[Linear Regression 詳細介紹](https://brohrer.mcknote.com/zh-Hant/how_machine_learning_works/how_linear_regression_works.html)\n",
    "\n",
    "[Logistics Regression 詳細介紹](https://medium.com/@yehjames/%E8%B3%87%E6%96%99%E5%88%86%E6%9E%90-%E6%A9%9F%E5%99%A8%E5%AD%B8%E7%BF%92-%E7%AC%AC3-3%E8%AC%9B-%E7%B7%9A%E6%80%A7%E5%88%86%E9%A1%9E-%E9%82%8F%E8%BC%AF%E6%96%AF%E5%9B%9E%E6%AD%B8-logistic-regression-%E4%BB%8B%E7%B4%B9-a1a5f47017e5)\n"
   ]
  },
  {
   "cell_type": "markdown",
   "metadata": {},
   "source": [
    "1. 線性回歸模型能夠準確預測非線性關係的資料集嗎?\n",
    "2. 回歸模型是否對資料分布有基本假設?\n"
   ]
  },
  {
   "cell_type": "markdown",
   "metadata": {},
   "source": [
    "## Question 1\n",
    "In linear regression, the relationships are modeled using linear predictor functions whose unknown model parameters are estimated from the data. The difference between linear and nonlinear regression models isn’t as straightforward as it sounds. You’d think that linear equations produce straight lines and nonlinear equations model curvature. Unfortunately, that’s not correct. Both types of models can fit curves to your data—so that’s not the defining characteristic. A linear regression model follows a very particular form. In statistics, a regression model is linear when all terms in the model are one of the following:\n",
    " - The constant\n",
    " - A parameter multiplied by an independent variable\n",
    "\n",
    "## Question 2\n",
    "It is customary in econometrics to state the assumptions of the regression model in terms of the random error *e*. For future reference the assumptions are named SR1-SR6, \"SR\" denoting \"simple regression.\" \n",
    " - The value of *y*, for each value of *x*, is $y = \\beta_1+\\beta_2x+e$\n",
    " - The average value of the random error *e* is $E(e) = 0$ since we assume that $y = \\beta_1+\\beta_2x$\n",
    " - The variance of the random error *e* is $var(e) = \\sigma^2 = var(y)$ since *y* and *e* differ only by a constant, which doesn’t change the variance. \n",
    " - The covariance between any pair of random errors, $e_i$ and $e_j$ is $cov(e_i, e_j) = cov(y_i, y_j) = 0$.  If the values of *y* are statistically independent, then so are the random errors *e*, and vice versa.\n",
    " - The variable *x* is not random and must take at least two different values. \n",
    " - (optional) The values of *e* are normally distributed about their mean $e ~ N(0, \\sigma^2)$ if the values of *y* are normally distributed, and vice versa.\n",
    " \n",
    "Reference: http://web.thu.edu.tw/wichuang/www/Financial%20Econometrics/Lectures/CHAPTER%203.pdf"
   ]
  },
  {
   "cell_type": "code",
   "execution_count": null,
   "metadata": {},
   "outputs": [],
   "source": []
  }
 ],
 "metadata": {
  "kernelspec": {
   "display_name": "Python 3",
   "language": "python",
   "name": "python3"
  },
  "language_info": {
   "codemirror_mode": {
    "name": "ipython",
    "version": 3
   },
   "file_extension": ".py",
   "mimetype": "text/x-python",
   "name": "python",
   "nbconvert_exporter": "python",
   "pygments_lexer": "ipython3",
   "version": "3.7.3"
  }
 },
 "nbformat": 4,
 "nbformat_minor": 2
}
