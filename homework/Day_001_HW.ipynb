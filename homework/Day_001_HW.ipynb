{
 "cells": [
  {
   "cell_type": "markdown",
   "metadata": {},
   "source": [
    "## Practice Time\n",
    "#### Write a function to calculate Mean Square Error\n",
    "$ MSE = \\frac{1}{n}\\sum_{i=1}^{n}{(Y_i - \\hat{Y}_i)^2} $\n",
    "\n",
    "### Hint: [Square](https://googoodesign.gitbooks.io/-ezpython/unit-1.html)"
   ]
  },
  {
   "cell_type": "code",
   "execution_count": 1,
   "metadata": {},
   "outputs": [],
   "source": [
    "import numpy as np\n",
    "import matplotlib.pyplot as plt"
   ]
  },
  {
   "cell_type": "code",
   "execution_count": 2,
   "metadata": {},
   "outputs": [],
   "source": [
    "def mean_absolute_error(y, yp):\n",
    "    \"\"\"\n",
    "    Calculate MAE\n",
    "    Args:\n",
    "        - y: Actual value\n",
    "        - yp: Predict value\n",
    "    Return:\n",
    "        - MAE\n",
    "    \"\"\"\n",
    "    return sum(abs(y-yp))/len(y)\n",
    "\n",
    "def mean_squared_error(y, yp):\n",
    "    \"\"\"\n",
    "    Calculate MSE\n",
    "    Args:\n",
    "        - y: Actual value\n",
    "        - yp: Predict value\n",
    "    Return:\n",
    "        - MSE\n",
    "    \"\"\"\n",
    "    return sum((y-yp)**2)/len(y)"
   ]
  },
  {
   "cell_type": "code",
   "execution_count": 3,
   "metadata": {},
   "outputs": [
    {
     "data": {
      "image/png": "[encoded data removed]",
      "text/plain": [
       "<Figure size 432x288 with 1 Axes>"
      ]
     },
     "metadata": {
      "needs_background": "light"
     },
     "output_type": "display_data"
    }
   ],
   "source": [
    "w = 3\n",
    "b = 0.5\n",
    "x_lin = np.linspace(0, 100, 101)\n",
    "y = (x_lin + np.random.randn(101) * 5) * w + b\n",
    "\n",
    "plt.plot(x_lin, y, 'b.', label = 'data points')\n",
    "plt.title(\"Assume we have data points\")\n",
    "plt.legend(loc = 2)\n",
    "plt.show()"
   ]
  },
  {
   "cell_type": "code",
   "execution_count": 4,
   "metadata": {},
   "outputs": [
    {
     "data": {
      "image/png": "[encoded data removed]",
      "text/plain": [
       "<Figure size 432x288 with 1 Axes>"
      ]
     },
     "metadata": {
      "needs_background": "light"
     },
     "output_type": "display_data"
    }
   ],
   "source": [
    "y_hat = x_lin * w + b\n",
    "plt.plot(x_lin, y, 'b.', label = 'data')\n",
    "plt.plot(x_lin, y_hat, 'r-', label = 'prediction')\n",
    "plt.title(\"Assume we have data points (And the prediction)\")\n",
    "plt.legend(loc = 2)\n",
    "plt.show()"
   ]
  },
  {
   "cell_type": "code",
   "execution_count": 5,
   "metadata": {},
   "outputs": [
    {
     "name": "stdout",
     "output_type": "stream",
     "text": [
      "The Mean squared error is 220.016\n",
      "The Mean absolute error is 11.454\n"
     ]
    }
   ],
   "source": [
    "# Execute functions and check whether working or not.\n",
    "MSE = mean_squared_error(y, y_hat)\n",
    "MAE = mean_absolute_error(y, y_hat)\n",
    "print(\"The Mean squared error is %.3f\" % (MSE))\n",
    "print(\"The Mean absolute error is %.3f\" % (MAE))"
   ]
  },
  {
   "cell_type": "markdown",
   "metadata": {},
   "source": [
    "# Assignment 2\n",
    "\n",
    "[Spam Text Message Classification](https://www.kaggle.com/team-ai/spam-text-message-classification)\n",
    "\n",
    "- It is a text classification dataset from Team AI. Text classification is the process of assigning lables or categories to text according to its text content. It's one of the fundamental tasks in Natural Language Processing (NLP) with broad applications such as sentiment analysis, topic labeling, spam detection, and intent detection, to name but a few.\n",
    "\n",
    "- This SMS Spam Collection v.1 is collected by Tiago A. Almeida and José María Gómez Hidalgo. It is a public set of SMS labeled messages that have been collected for mobile phone spam research. \n",
    "\n",
    "- It has one collection composed by 5574 English, real and non-enconded messages, tagged according being legitimate (ham) or spam. Finally, this dataset is saved as a csv file.\n",
    "\n",
    "- I will evaluate this dataset by using f1 metric because it has a heavy class-imbalance problem. In statistical analysis of binary classification, f1-score considers both the precision and the recall of the test to compute the score. F1-score is often used in the field of information retrieval for measuring search, document classification, and query classification performance."
   ]
  },
  {
   "cell_type": "markdown",
   "metadata": {},
   "source": [
    "# Assignment 3\n",
    "\n",
    "## Core Problem\n",
    "1. First, we have to find out what kind of people will take our service to call a taxi.\n",
    "    - People who is rich.\n",
    "    - The target place is way too far from the original place.\n",
    "    - The service is less expensive from others.\n",
    "2. Second, how to decrease our cost and increase our revenue.\n",
    "    - Maybe use an app to decrease our time cost.\n",
    "    - Create an automatic matching system to connect with the nearest taxi driver.\n",
    "    - Release coupons occasionally.\n",
    "3. Finally, Define hypothesis to let revenue grow.\n",
    "    - Avoid long-distance service to lower gas cost.\n",
    "    - Conduct customers' pattern analysis to predict in which place (e.g. train station, night market, etc) people need taxi the most.\n",
    "    - Build a reviews area in app or online in order to get customers' feedback and make our service better.\n",
    "\n",
    "## Data Resource\n",
    "1. Build an app to collect customers data.\n",
    "    - Web crawler.\n",
    "    - Open source API\n",
    "    - Store data into SQL or MongoDB.\n",
    "2. Factors which may affect.\n",
    "    - Age.\n",
    "    - Gender.\n",
    "    - Preferences.\n",
    "    - Routes on Google Map.\n",
    "    - Weather.\n",
    "    - Location.\n",
    "    - Off-peak time and peak time.\n",
    "    \n",
    "## Evaluation\n",
    "Take some random samples to evalate the performance using our strategy for a month."
   ]
  },
  {
   "cell_type": "code",
   "execution_count": null,
   "metadata": {},
   "outputs": [],
   "source": []
  }
 ],
 "metadata": {
  "anaconda-cloud": {},
  "celltoolbar": "Raw Cell Format",
  "kernelspec": {
   "display_name": "nlp",
   "language": "python",
   "name": "nlp"
  },
  "language_info": {
   "codemirror_mode": {
    "name": "ipython",
    "version": 3
   },
   "file_extension": ".py",
   "mimetype": "text/x-python",
   "name": "python",
   "nbconvert_exporter": "python",
   "pygments_lexer": "ipython3",
   "version": "3.7.3"
  }
 },
 "nbformat": 4,
 "nbformat_minor": 1
}
