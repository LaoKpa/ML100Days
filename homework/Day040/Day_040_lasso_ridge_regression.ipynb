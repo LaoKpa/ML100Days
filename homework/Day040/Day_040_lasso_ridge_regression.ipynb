{
 "cells": [
  {
   "cell_type": "code",
   "execution_count": 1,
   "metadata": {},
   "outputs": [],
   "source": [
    "import numpy as np\n",
    "import matplotlib.pyplot as plt\n",
    "from sklearn import datasets, linear_model\n",
    "from sklearn.model_selection import train_test_split\n",
    "from sklearn.metrics import mean_squared_error, r2_score"
   ]
  },
  {
   "cell_type": "code",
   "execution_count": 2,
   "metadata": {},
   "outputs": [],
   "source": [
    "# 讀取糖尿病資料集\n",
    "diabetes = datasets.load_diabetes()\n",
    "\n",
    "# 切分訓練集/測試集\n",
    "x_train, x_test, y_train, y_test = train_test_split(diabetes.data, diabetes.target, test_size=0.2, random_state=4)\n",
    "\n",
    "# 建立一個線性回歸模型\n",
    "regr = linear_model.LinearRegression()\n",
    "\n",
    "# 將訓練資料丟進去模型訓練\n",
    "regr.fit(x_train, y_train)\n",
    "\n",
    "# 將測試資料丟進模型得到預測結果\n",
    "y_pred = regr.predict(x_test)"
   ]
  },
  {
   "cell_type": "code",
   "execution_count": 3,
   "metadata": {},
   "outputs": [
    {
     "data": {
      "text/plain": [
       "array([[ 0.0090156 , -0.04464164,  0.05522933, ...,  0.02323852,\n",
       "         0.05568355,  0.10661708],\n",
       "       [ 0.03081083,  0.05068012, -0.03422907, ...,  0.05755657,\n",
       "         0.03546194,  0.08590655],\n",
       "       [ 0.01628068, -0.04464164, -0.06332999, ..., -0.03949338,\n",
       "        -0.0594727 , -0.06735141],\n",
       "       ...,\n",
       "       [ 0.04170844,  0.05068012, -0.01590626, ..., -0.01107952,\n",
       "        -0.04687948,  0.01549073],\n",
       "       [ 0.01628068,  0.05068012,  0.00996123, ..., -0.03949338,\n",
       "         0.01703713,  0.00720652],\n",
       "       [ 0.04897352,  0.05068012,  0.08109682, ...,  0.07120998,\n",
       "         0.03243323,  0.04862759]])"
      ]
     },
     "execution_count": 3,
     "metadata": {},
     "output_type": "execute_result"
    }
   ],
   "source": [
    "x_train"
   ]
  },
  {
   "cell_type": "code",
   "execution_count": 4,
   "metadata": {},
   "outputs": [
    {
     "data": {
      "text/plain": [
       "array([173., 120.,  65., 332., 107.,  84.,  48.,  87.,  53., 158.,  71.,\n",
       "       121., 244., 131., 152.,  72., 118., 210., 140., 170.,  49., 262.,\n",
       "        61.,  53.,  52.,  63., 181., 103., 277., 235.,  97.,  88., 197.,\n",
       "       152., 187.,  92., 150.,  75., 131., 104., 160., 127., 243.,  40.,\n",
       "        61., 179.,  53., 109.,  49., 281., 257., 306., 115.,  88., 252.,\n",
       "       283.,  79., 200., 275.,  96., 259.,  77., 103.,  42.,  60., 246.,\n",
       "       110., 310., 111., 147., 190., 196.,  91.,  95., 265., 274., 116.,\n",
       "       116.,  83., 122., 270., 230., 275., 310.,  67., 104., 280., 166.,\n",
       "        94., 243., 164.,  90.,  85., 195., 177., 221., 102., 233., 249.,\n",
       "        90.,  72., 214., 144.,  60., 270., 220.,  68., 123.,  45., 129.,\n",
       "       182., 174., 127., 124., 257.,  47.,  88., 189.,  71., 242., 178.,\n",
       "       272.,  68., 190., 219.,  93., 233., 230., 297., 185., 138., 181.,\n",
       "       321., 248., 264., 101., 281., 107., 308., 225., 102.,  71.,  53.,\n",
       "       263., 168.,  83., 281.,  75., 150., 273.,  55., 128., 163., 191.,\n",
       "       261., 178., 275., 109., 124., 148., 144.,  91.,  52., 110.,  78.,\n",
       "       245.,  59., 131., 200., 276., 179.,  90., 245.,  89.,  98., 131.,\n",
       "       102.,  72.,  43., 253.,  81.,  51.,  37., 121., 173., 137.,  71.,\n",
       "       198., 135., 200.,  51., 272., 214., 182., 186., 215., 156., 132.,\n",
       "       108., 142., 141., 265., 283.,  97.,  94., 341., 229.,  25., 109.,\n",
       "       191., 178., 258.,  85.,  50.,  31.,  60.,  55., 101., 151.,  63.,\n",
       "       155.,  96., 135., 248., 216., 140., 136., 279., 263., 146., 114.,\n",
       "        97., 113., 220., 175., 200.,  84., 317., 171., 109.,  55.,  74.,\n",
       "       220.,  85., 241., 246.,  67., 288., 198.,  97.,  77.,  66., 100.,\n",
       "        54.,  39., 158.,  42.,  69.,  72., 104., 161., 310., 252.,  89.,\n",
       "        59.,  58.,  42., 183.,  96.,  77., 182., 303.,  78.,  59., 145.,\n",
       "       225., 144., 170.,  84.,  96., 141., 277.,  64.,  90.,  72., 154.,\n",
       "       142., 242., 113., 200., 199., 104., 292.,  68., 252., 258.,  88.,\n",
       "       237., 143., 111., 296., 275., 259., 155., 153., 162.,  92., 202.,\n",
       "       197.,  63., 206., 212.,  80., 217.,  47., 268., 113., 242., 142.,\n",
       "        85., 129., 168., 220.,  86.,  52.,  39., 126.,  49., 185., 151.,\n",
       "       201.,  59.,  99.,  55., 259., 214.,  48., 163., 180.,  90.,  81.,\n",
       "       311.,  91., 170.,  69.,  44., 134., 281., 219., 129., 132., 151.,\n",
       "       180.])"
      ]
     },
     "execution_count": 4,
     "metadata": {},
     "output_type": "execute_result"
    }
   ],
   "source": [
    "y_train"
   ]
  },
  {
   "cell_type": "code",
   "execution_count": 5,
   "metadata": {},
   "outputs": [
    {
     "name": "stdout",
     "output_type": "stream",
     "text": [
      "[  33.40877011 -292.24672884  481.07153405  369.06269614 -966.37849405\n",
      "  589.81383056  232.61924401  288.3263166   802.72704593   37.81285219]\n"
     ]
    }
   ],
   "source": [
    "print(regr.coef_)"
   ]
  },
  {
   "cell_type": "code",
   "execution_count": 6,
   "metadata": {},
   "outputs": [
    {
     "name": "stdout",
     "output_type": "stream",
     "text": [
      "Mean squared error: 2939.42\n"
     ]
    }
   ],
   "source": [
    "# 預測值與實際值的差距，使用 MSE\n",
    "print(\"Mean squared error: %.2f\"\n",
    "      % mean_squared_error(y_test, y_pred))"
   ]
  },
  {
   "cell_type": "markdown",
   "metadata": {},
   "source": [
    "### LASSO"
   ]
  },
  {
   "cell_type": "code",
   "execution_count": 7,
   "metadata": {},
   "outputs": [],
   "source": [
    "# 讀取糖尿病資料集\n",
    "diabetes = datasets.load_diabetes()\n",
    "\n",
    "# 切分訓練集/測試集\n",
    "x_train, x_test, y_train, y_test = train_test_split(diabetes.data, diabetes.target, test_size=0.2, random_state=4)\n",
    "\n",
    "# 建立一個線性回歸模型\n",
    "lasso = linear_model.Lasso(alpha=1.0)\n",
    "\n",
    "# 將訓練資料丟進去模型訓練\n",
    "lasso.fit(x_train, y_train)\n",
    "\n",
    "# 將測試資料丟進模型得到預測結果\n",
    "y_pred = lasso.predict(x_test)"
   ]
  },
  {
   "cell_type": "code",
   "execution_count": 8,
   "metadata": {},
   "outputs": [
    {
     "data": {
      "text/plain": [
       "array([  0.        ,  -0.        , 321.203877  ,  57.74744332,\n",
       "         0.        ,   0.        ,  -0.        ,   0.        ,\n",
       "       332.41817196,   0.        ])"
      ]
     },
     "execution_count": 8,
     "metadata": {},
     "output_type": "execute_result"
    }
   ],
   "source": [
    "# 印出各特徵對應的係數，可以看到許多係數都變成 0，Lasso Regression 的確可以做特徵選取\n",
    "lasso.coef_"
   ]
  },
  {
   "cell_type": "code",
   "execution_count": 9,
   "metadata": {},
   "outputs": [
    {
     "name": "stdout",
     "output_type": "stream",
     "text": [
      "Mean squared error: 3505.84\n"
     ]
    }
   ],
   "source": [
    "# 預測值與實際值的差距，使用 MSE\n",
    "print(\"Mean squared error: %.2f\"\n",
    "      % mean_squared_error(y_test, y_pred))"
   ]
  },
  {
   "cell_type": "markdown",
   "metadata": {},
   "source": [
    "### Ridge"
   ]
  },
  {
   "cell_type": "code",
   "execution_count": 10,
   "metadata": {},
   "outputs": [],
   "source": [
    "# 讀取糖尿病資料集\n",
    "diabetes = datasets.load_diabetes()\n",
    "\n",
    "# 切分訓練集/測試集\n",
    "x_train, x_test, y_train, y_test = train_test_split(diabetes.data, diabetes.target, test_size=0.2, random_state=4)\n",
    "\n",
    "# 建立一個線性回歸模型\n",
    "ridge = linear_model.Ridge(alpha=1.0)\n",
    "\n",
    "# 將訓練資料丟進去模型訓練\n",
    "ridge.fit(x_train, y_train)\n",
    "\n",
    "# 將測試資料丟進模型得到預測結果\n",
    "y_pred = regr.predict(x_test)"
   ]
  },
  {
   "cell_type": "code",
   "execution_count": 11,
   "metadata": {},
   "outputs": [
    {
     "name": "stdout",
     "output_type": "stream",
     "text": [
      "[  48.8125786   -85.49511577  270.22532535  201.91767903   17.41308665\n",
      "  -19.04346706 -136.47737574  122.26503311  247.60074795   95.59855598]\n"
     ]
    }
   ],
   "source": [
    "# 印出 Ridge 的參數，可以很明顯看到比起 Linear Regression，參數的數值都明顯小了許多\n",
    "print(ridge.coef_)"
   ]
  },
  {
   "cell_type": "code",
   "execution_count": 12,
   "metadata": {},
   "outputs": [
    {
     "name": "stdout",
     "output_type": "stream",
     "text": [
      "Mean squared error: 2939.42\n"
     ]
    }
   ],
   "source": [
    "# 預測值與實際值的差距，使用 MSE\n",
    "print(\"Mean squared error: %.2f\"\n",
    "      % mean_squared_error(y_test, y_pred))"
   ]
  },
  {
   "cell_type": "markdown",
   "metadata": {},
   "source": [
    "可以看見 LASSO 與 Ridge 的結果並沒有比原本的線性回歸來得好，\n",
    "這是因為目標函數被加上了正規化函數，讓模型不能過於複雜，相當於限制模型擬和資料的能力。因此若沒有發現 Over-fitting 的情況，是可以不需要一開始就加上太強的正規化的。"
   ]
  },
  {
   "cell_type": "markdown",
   "metadata": {},
   "source": [
    "## 練習時間"
   ]
  },
  {
   "cell_type": "markdown",
   "metadata": {},
   "source": [
    "請使用其他資料集 (boston, wine)，並調整不同的 alpha 來觀察模型訓練的情形。"
   ]
  },
  {
   "cell_type": "code",
   "execution_count": null,
   "metadata": {},
   "outputs": [],
   "source": []
  }
 ],
 "metadata": {
  "kernelspec": {
   "display_name": "nlp",
   "language": "python",
   "name": "nlp"
  },
  "language_info": {
   "codemirror_mode": {
    "name": "ipython",
    "version": 3
   },
   "file_extension": ".py",
   "mimetype": "text/x-python",
   "name": "python",
   "nbconvert_exporter": "python",
   "pygments_lexer": "ipython3",
   "version": "3.7.3"
  }
 },
 "nbformat": 4,
 "nbformat_minor": 2
}
