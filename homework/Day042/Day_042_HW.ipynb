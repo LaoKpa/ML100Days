{
 "cells": [
  {
   "cell_type": "markdown",
   "metadata": {},
   "source": [
    "## [作業重點]\n",
    "目前你應該已經要很清楚資料集中，資料的型態是什麼樣子囉！包含特徵 (features) 與標籤 (labels)。因此要記得未來不管什麼專案，必須要把資料清理成相同的格式，才能送進模型訓練。\n",
    "今天的作業開始踏入決策樹這個非常重要的模型，請務必確保你理解模型中每個超參數的意思，並試著調整看看，對最終預測結果的影響為何"
   ]
  },
  {
   "cell_type": "markdown",
   "metadata": {},
   "source": [
    "## 作業\n",
    "\n",
    "1. 試著調整 DecisionTreeClassifier(...) 中的參數，並觀察是否會改變結果？\n",
    "2. 改用其他資料集 (boston, wine)，並與回歸模型的結果進行比較"
   ]
  },
  {
   "cell_type": "code",
   "execution_count": 1,
   "metadata": {},
   "outputs": [],
   "source": [
    "from sklearn import datasets, metrics\n",
    "from sklearn.tree import DecisionTreeClassifier, DecisionTreeRegressor\n",
    "from sklearn.model_selection import train_test_split"
   ]
  },
  {
   "cell_type": "code",
   "execution_count": 2,
   "metadata": {},
   "outputs": [],
   "source": [
    "cancer = datasets.load_breast_cancer()\n",
    "x_train, x_test, y_train, y_test = train_test_split(cancer.data, cancer.target, test_size=0.2, random_state=0)"
   ]
  },
  {
   "cell_type": "code",
   "execution_count": 3,
   "metadata": {},
   "outputs": [
    {
     "name": "stdout",
     "output_type": "stream",
     "text": [
      "Max Depth: 1\tAcuuracy: 0.9035087719298246\n",
      "Max Depth: 2\tAcuuracy: 0.9649122807017544\n",
      "Max Depth: 3\tAcuuracy: 0.9649122807017544\n",
      "Max Depth: 4\tAcuuracy: 0.956140350877193\n",
      "Max Depth: 5\tAcuuracy: 0.9473684210526315\n",
      "Max Depth: 6\tAcuuracy: 0.9473684210526315\n",
      "Max Depth: 7\tAcuuracy: 0.9473684210526315\n",
      "Max Depth: 8\tAcuuracy: 0.9473684210526315\n",
      "Max Depth: 9\tAcuuracy: 0.9122807017543859\n",
      "Max Depth: 10\tAcuuracy: 0.9122807017543859\n"
     ]
    }
   ],
   "source": [
    "for d in range(1, 11):\n",
    "    clf = DecisionTreeClassifier(criterion=\"gini\", max_depth=d, random_state=0)\n",
    "    clf.fit(x_train, y_train)\n",
    "    y_pred = clf.predict(x_test)\n",
    "    acc = metrics.accuracy_score(y_test, y_pred)\n",
    "    print(\"Max Depth: {}\\tAcuuracy: {}\".format(d, acc))"
   ]
  },
  {
   "cell_type": "code",
   "execution_count": 4,
   "metadata": {},
   "outputs": [],
   "source": [
    "diabetes = datasets.load_diabetes()\n",
    "x_train, x_test, y_train, y_test = train_test_split(diabetes.data, diabetes.target, test_size=0.2, random_state=0)"
   ]
  },
  {
   "cell_type": "code",
   "execution_count": 5,
   "metadata": {},
   "outputs": [
    {
     "name": "stdout",
     "output_type": "stream",
     "text": [
      "Max Depth: 1\tMSE: 5112.723321930166\n",
      "Max Depth: 2\tMSE: 4764.48500468469\n",
      "Max Depth: 3\tMSE: 4778.141926493388\n",
      "Max Depth: 4\tMSE: 5019.633602183043\n",
      "Max Depth: 5\tMSE: 4763.101415136778\n",
      "Max Depth: 6\tMSE: 5568.632310851677\n",
      "Max Depth: 7\tMSE: 5580.248337444893\n",
      "Max Depth: 8\tMSE: 6040.771021839449\n",
      "Max Depth: 9\tMSE: 6900.600963181977\n",
      "Max Depth: 10\tMSE: 7351.853251259044\n"
     ]
    }
   ],
   "source": [
    "for d in range(1, 11):\n",
    "    reg = DecisionTreeRegressor(criterion=\"mse\", max_depth=d, random_state=0)\n",
    "    reg.fit(x_train, y_train)\n",
    "    y_pred = reg.predict(x_test)\n",
    "    mse = metrics.mean_squared_error(y_test, y_pred)\n",
    "    print(\"Max Depth: {}\\tMSE: {}\".format(d, mse))"
   ]
  },
  {
   "cell_type": "code",
   "execution_count": null,
   "metadata": {},
   "outputs": [],
   "source": []
  }
 ],
 "metadata": {
  "kernelspec": {
   "display_name": "Python 3",
   "language": "python",
   "name": "python3"
  },
  "language_info": {
   "codemirror_mode": {
    "name": "ipython",
    "version": 3
   },
   "file_extension": ".py",
   "mimetype": "text/x-python",
   "name": "python",
   "nbconvert_exporter": "python",
   "pygments_lexer": "ipython3",
   "version": "3.7.3"
  }
 },
 "nbformat": 4,
 "nbformat_minor": 2
}
