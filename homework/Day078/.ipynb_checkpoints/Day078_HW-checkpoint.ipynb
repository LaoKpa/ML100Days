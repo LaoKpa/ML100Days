{
 "cells": [
  {
   "cell_type": "markdown",
   "metadata": {},
   "source": [
    "## Work\n",
    "1. 請嘗試將 preproc_x 替換成以每筆資料的 min/max 進行標準化至 -1 ~ 1 間，再進行訓練\n",
    "2. 請嘗試將 mlp 疊更深 (e.g 5~10 層)，進行訓練後觀察 learning curve 的走勢\n",
    "3. (optional) 請改用 GPU 進行訓練 (如果你有 GPU 的話)，比較使用 CPU 與 GPU 的訓練速度"
   ]
  },
  {
   "cell_type": "code",
   "execution_count": 1,
   "metadata": {},
   "outputs": [
    {
     "name": "stdout",
     "output_type": "stream",
     "text": [
      "Fri Jul 10 19:14:54 2020       \n",
      "+-----------------------------------------------------------------------------+\n",
      "| NVIDIA-SMI 442.74       Driver Version: 442.74       CUDA Version: 10.2     |\n",
      "|-------------------------------+----------------------+----------------------+\n",
      "| GPU  Name            TCC/WDDM | Bus-Id        Disp.A | Volatile Uncorr. ECC |\n",
      "| Fan  Temp  Perf  Pwr:Usage/Cap|         Memory-Usage | GPU-Util  Compute M. |\n",
      "|===============================+======================+======================|\n",
      "|   0  GeForce RTX 208... WDDM  | 00000000:01:00.0  On |                  N/A |\n",
      "|  0%   60C    P3    81W / 300W |   1315MiB / 11264MiB |      3%      Default |\n",
      "+-------------------------------+----------------------+----------------------+\n",
      "                                                                               \n",
      "+-----------------------------------------------------------------------------+\n",
      "| Processes:                                                       GPU Memory |\n",
      "|  GPU       PID   Type   Process name                             Usage      |\n",
      "|=============================================================================|\n",
      "|    0      3716    C+G   ...AppData\\Local\\LINE\\bin\\current\\LINE.exe N/A      |\n",
      "|    0      6884    C+G   ...6)\\Google\\Chrome\\Application\\chrome.exe N/A      |\n",
      "|    0      8460    C+G   ...x64__8wekyb3d8bbwe\\Microsoft.Photos.exe N/A      |\n",
      "|    0     10740    C+G   ...DIA GeForce Experience\\NVIDIA Share.exe N/A      |\n",
      "|    0     12936    C+G   ...dows.Cortana_cw5n1h2txyewy\\SearchUI.exe N/A      |\n",
      "|    0     13140    C+G   ...hell.Experiences.TextInput.InputApp.exe N/A      |\n",
      "|    0     13980    C+G   ...AppData\\Local\\slack\\app-4.6.0\\slack.exe N/A      |\n",
      "|    0     14776    C+G   ...t_cw5n1h2txyewy\\ShellExperienceHost.exe N/A      |\n",
      "|    0     15804    C+G   ...6)\\Google\\Chrome\\Application\\chrome.exe N/A      |\n",
      "|    0     15964    C+G   ...0400.0_x64__8wekyb3d8bbwe\\HxOutlook.exe N/A      |\n",
      "|    0     16440    C+G   ...6)\\Google\\Chrome\\Application\\chrome.exe N/A      |\n",
      "|    0     16752    C+G   ...1.0_x64__8wekyb3d8bbwe\\WinStore.App.exe N/A      |\n",
      "|    0     17252    C+G   ...2.97.0_x64__8wekyb3d8bbwe\\YourPhone.exe N/A      |\n",
      "|    0     17720    C+G   ...DIA GeForce Experience\\NVIDIA Share.exe N/A      |\n",
      "|    0     18492    C+G   ...6.102.0_x64__kzf8qxf38zg5c\\SkypeApp.exe N/A      |\n",
      "|    0     19084    C+G   Insufficient Permissions                   N/A      |\n",
      "|    0     19344    C+G   ...16211.0_x64__8wekyb3d8bbwe\\Video.UI.exe N/A      |\n",
      "|    0     19944    C+G   C:\\Windows\\explorer.exe                    N/A      |\n",
      "|    0     20144    C+G   ...6)\\Google\\Chrome\\Application\\chrome.exe N/A      |\n",
      "|    0     21296    C+G   ...5n1h2txyewy\\StartMenuExperienceHost.exe N/A      |\n",
      "|    0     22500    C+G   ...6)\\Google\\Chrome\\Application\\chrome.exe N/A      |\n",
      "+-----------------------------------------------------------------------------+\n"
     ]
    }
   ],
   "source": [
    "## \n",
    "\"\"\"\n",
    "Your code here (optional)\n",
    "確認硬體資源\n",
    "\"\"\"\n",
    "!nvidia-smi"
   ]
  },
  {
   "cell_type": "code",
   "execution_count": 2,
   "metadata": {},
   "outputs": [
    {
     "name": "stderr",
     "output_type": "stream",
     "text": [
      "Using TensorFlow backend.\n"
     ]
    }
   ],
   "source": [
    "import os\n",
    "import keras\n",
    "\n",
    "# 請嘗試設定 GPU：os.environ\n",
    "os.environ[\"CUDA_VISIBLE_DEVICES\"] = \"0\""
   ]
  },
  {
   "cell_type": "code",
   "execution_count": 3,
   "metadata": {},
   "outputs": [],
   "source": [
    "train, test = keras.datasets.cifar10.load_data()"
   ]
  },
  {
   "cell_type": "code",
   "execution_count": 4,
   "metadata": {},
   "outputs": [],
   "source": [
    "## 資料前處理\n",
    "def preproc_x(x, flatten=True):\n",
    "    x = 2*(((x - x.min()) / (x.max() - x.min()))-0.5)\n",
    "    if flatten:\n",
    "        x = x.reshape((len(x), -1))\n",
    "    return x\n",
    "\n",
    "def preproc_y(y, num_classes=10):\n",
    "    if y.shape[-1] == 1:\n",
    "        y = keras.utils.to_categorical(y, num_classes)\n",
    "    return y "
   ]
  },
  {
   "cell_type": "code",
   "execution_count": 5,
   "metadata": {},
   "outputs": [],
   "source": [
    "x_train, y_train = train\n",
    "x_test, y_test = test\n",
    "\n",
    "# Preproc the inputs\n",
    "x_train = preproc_x(x_train)\n",
    "x_test = preproc_x(x_test)\n",
    "\n",
    "# Preprc the outputs\n",
    "y_train = preproc_y(y_train)\n",
    "y_test = preproc_y(y_test)"
   ]
  },
  {
   "cell_type": "code",
   "execution_count": 6,
   "metadata": {},
   "outputs": [
    {
     "name": "stdout",
     "output_type": "stream",
     "text": [
      "Model: \"model_1\"\n",
      "_________________________________________________________________\n",
      "Layer (type)                 Output Shape              Param #   \n",
      "=================================================================\n",
      "input_1 (InputLayer)         (None, 3072)              0         \n",
      "_________________________________________________________________\n",
      "hidden_layer1 (Dense)        (None, 512)               1573376   \n",
      "_________________________________________________________________\n",
      "hidden_layer2 (Dense)        (None, 256)               131328    \n",
      "_________________________________________________________________\n",
      "hidden_layer3 (Dense)        (None, 128)               32896     \n",
      "_________________________________________________________________\n",
      "hidden_layer4 (Dense)        (None, 64)                8256      \n",
      "_________________________________________________________________\n",
      "hidden_layer5 (Dense)        (None, 32)                2080      \n",
      "_________________________________________________________________\n",
      "output (Dense)               (None, 10)                330       \n",
      "=================================================================\n",
      "Total params: 1,748,266\n",
      "Trainable params: 1,748,266\n",
      "Non-trainable params: 0\n",
      "_________________________________________________________________\n"
     ]
    }
   ],
   "source": [
    "\"\"\"Code Here\n",
    "建立你的神經網路\n",
    "\"\"\"\n",
    "def build_mlp(input_shape, output_units=10, num_neurons=[512, 256, 128, 64, 32]):\n",
    "    input_layer = keras.layers.Input(input_shape)\n",
    "    \n",
    "    for i, n_units in enumerate(num_neurons):\n",
    "        if i == 0:\n",
    "            x = keras.layers.Dense(units=n_units, activation=\"relu\", name=\"hidden_layer\"+str(i+1))(input_layer)\n",
    "        else:\n",
    "            x = keras.layers.Dense(units=n_units, activation=\"relu\", name=\"hidden_layer\"+str(i+1))(x)\n",
    "    \n",
    "    out = keras.layers.Dense(units=output_units, activation=\"softmax\", name=\"output\")(x)\n",
    "    \n",
    "    model = keras.models.Model(inputs=[input_layer], outputs=[out])\n",
    "    return model\n",
    "\n",
    "model = build_mlp(input_shape=x_train.shape[1:])\n",
    "model.summary()"
   ]
  },
  {
   "cell_type": "code",
   "execution_count": 7,
   "metadata": {},
   "outputs": [],
   "source": [
    "## 超參數設定\n",
    "LEARNING_RATE = 0.001\n",
    "EPOCHS = 20\n",
    "BATCH_SIZE = 256"
   ]
  },
  {
   "cell_type": "code",
   "execution_count": 8,
   "metadata": {},
   "outputs": [],
   "source": [
    "optimizer = keras.optimizers.Adam(lr=LEARNING_RATE)\n",
    "model.compile(loss=\"categorical_crossentropy\", metrics=[\"acc\"], optimizer=optimizer)"
   ]
  },
  {
   "cell_type": "code",
   "execution_count": 9,
   "metadata": {},
   "outputs": [
    {
     "name": "stdout",
     "output_type": "stream",
     "text": [
      "Train on 50000 samples, validate on 10000 samples\n",
      "Epoch 1/20\n",
      "50000/50000 [==============================] - 2s 38us/step - loss: 1.7286 - acc: 0.3842 - val_loss: 1.5426 - val_acc: 0.4539\n",
      "Epoch 2/20\n",
      "50000/50000 [==============================] - 2s 33us/step - loss: 1.4817 - acc: 0.4782 - val_loss: 1.4627 - val_acc: 0.4831\n",
      "Epoch 3/20\n",
      "50000/50000 [==============================] - 2s 33us/step - loss: 1.3698 - acc: 0.5174 - val_loss: 1.4064 - val_acc: 0.5020\n",
      "Epoch 4/20\n",
      "50000/50000 [==============================] - 2s 32us/step - loss: 1.2745 - acc: 0.5513 - val_loss: 1.3940 - val_acc: 0.5020\n",
      "Epoch 5/20\n",
      "50000/50000 [==============================] - 2s 32us/step - loss: 1.1888 - acc: 0.5822 - val_loss: 1.3788 - val_acc: 0.5185\n",
      "Epoch 6/20\n",
      "50000/50000 [==============================] - 2s 32us/step - loss: 1.1215 - acc: 0.6044 - val_loss: 1.3658 - val_acc: 0.5282\n",
      "Epoch 7/20\n",
      "50000/50000 [==============================] - 2s 32us/step - loss: 1.0503 - acc: 0.6284 - val_loss: 1.3631 - val_acc: 0.5356\n",
      "Epoch 8/20\n",
      "50000/50000 [==============================] - 2s 32us/step - loss: 0.9659 - acc: 0.6593 - val_loss: 1.4087 - val_acc: 0.5343\n",
      "Epoch 9/20\n",
      "50000/50000 [==============================] - 2s 33us/step - loss: 0.9082 - acc: 0.6781 - val_loss: 1.4464 - val_acc: 0.5339\n",
      "Epoch 10/20\n",
      "50000/50000 [==============================] - 2s 32us/step - loss: 0.8459 - acc: 0.6995 - val_loss: 1.4493 - val_acc: 0.5415\n",
      "Epoch 11/20\n",
      "50000/50000 [==============================] - 2s 32us/step - loss: 0.7823 - acc: 0.7224 - val_loss: 1.4972 - val_acc: 0.5342\n",
      "Epoch 12/20\n",
      "50000/50000 [==============================] - 2s 32us/step - loss: 0.7196 - acc: 0.7441 - val_loss: 1.5825 - val_acc: 0.5313\n",
      "Epoch 13/20\n",
      "50000/50000 [==============================] - 2s 32us/step - loss: 0.6610 - acc: 0.7670 - val_loss: 1.6617 - val_acc: 0.5295\n",
      "Epoch 14/20\n",
      "50000/50000 [==============================] - 2s 32us/step - loss: 0.6060 - acc: 0.7864 - val_loss: 1.6399 - val_acc: 0.5377\n",
      "Epoch 15/20\n",
      "50000/50000 [==============================] - 2s 32us/step - loss: 0.5613 - acc: 0.8005 - val_loss: 1.8314 - val_acc: 0.5331\n",
      "Epoch 16/20\n",
      "50000/50000 [==============================] - 2s 32us/step - loss: 0.5156 - acc: 0.8181 - val_loss: 1.8360 - val_acc: 0.5280\n",
      "Epoch 17/20\n",
      "50000/50000 [==============================] - 2s 32us/step - loss: 0.4673 - acc: 0.8349 - val_loss: 1.9161 - val_acc: 0.5358\n",
      "Epoch 18/20\n",
      "50000/50000 [==============================] - 2s 32us/step - loss: 0.4276 - acc: 0.8502 - val_loss: 1.9965 - val_acc: 0.5351\n",
      "Epoch 19/20\n",
      "50000/50000 [==============================] - 2s 32us/step - loss: 0.3980 - acc: 0.8606 - val_loss: 2.1046 - val_acc: 0.5330\n",
      "Epoch 20/20\n",
      "50000/50000 [==============================] - 2s 32us/step - loss: 0.3600 - acc: 0.8735 - val_loss: 2.2218 - val_acc: 0.5302\n"
     ]
    },
    {
     "data": {
      "text/plain": [
       "<keras.callbacks.callbacks.History at 0x21be11120f0>"
      ]
     },
     "execution_count": 9,
     "metadata": {},
     "output_type": "execute_result"
    }
   ],
   "source": [
    "model.fit(x_train, y_train, \n",
    "          epochs=EPOCHS, \n",
    "          batch_size=BATCH_SIZE, \n",
    "          validation_data=(x_test, y_test), \n",
    "          shuffle=True)"
   ]
  },
  {
   "cell_type": "code",
   "execution_count": 10,
   "metadata": {},
   "outputs": [
    {
     "data": {
      "image/png": "[encoded data removed]",
      "text/plain": [
       "<Figure size 1080x288 with 2 Axes>"
      ]
     },
     "metadata": {
      "needs_background": "light"
     },
     "output_type": "display_data"
    }
   ],
   "source": [
    "import matplotlib.pyplot as plt\n",
    "\n",
    "plt.figure(figsize=(15, 4))\n",
    "plt.subplot(1, 2, 1)\n",
    "train_loss = model.history.history[\"loss\"]\n",
    "valid_loss = model.history.history[\"val_loss\"]\n",
    "\n",
    "train_acc = model.history.history[\"acc\"]\n",
    "valid_acc = model.history.history[\"val_acc\"]\n",
    "\n",
    "plt.plot(range(len(train_loss)), train_loss, label=\"train loss\")\n",
    "plt.plot(range(len(valid_loss)), valid_loss, label=\"valid loss\")\n",
    "plt.grid()\n",
    "plt.legend()\n",
    "plt.title(\"Loss\")\n",
    "\n",
    "plt.subplot(1, 2, 2)\n",
    "plt.plot(range(len(train_acc)), train_acc, label=\"train accuracy\")\n",
    "plt.plot(range(len(valid_acc)), valid_acc, label=\"valid accuracy\")\n",
    "plt.grid()\n",
    "plt.legend()\n",
    "plt.title(\"Accuracy\")\n",
    "\n",
    "plt.tight_layout()\n",
    "plt.show()"
   ]
  },
  {
   "cell_type": "code",
   "execution_count": null,
   "metadata": {},
   "outputs": [],
   "source": []
  }
 ],
 "metadata": {
  "kernelspec": {
   "display_name": "nlp",
   "language": "python",
   "name": "nlp"
  },
  "language_info": {
   "codemirror_mode": {
    "name": "ipython",
    "version": 3
   },
   "file_extension": ".py",
   "mimetype": "text/x-python",
   "name": "python",
   "nbconvert_exporter": "python",
   "pygments_lexer": "ipython3",
   "version": "3.7.3"
  }
 },
 "nbformat": 4,
 "nbformat_minor": 2
}
